{
 "cells": [
  {
   "cell_type": "code",
   "execution_count": 1,
   "id": "707e3588-f9dd-4dc7-9360-4d46c85f4315",
   "metadata": {},
   "outputs": [],
   "source": [
    "input_string = \"Prem Singh Dhoni\""
   ]
  },
  {
   "cell_type": "code",
   "execution_count": 2,
   "id": "ead1b07a-d383-42c9-884c-a2dd0dfe0f77",
   "metadata": {},
   "outputs": [],
   "source": [
    "frequency = {}\n",
    "for char in input_string:\n",
    "    if char in frequency:\n",
    "        frequency[char] += 1\n",
    "    else:\n",
    "        frequency[char] = 1"
   ]
  },
  {
   "cell_type": "code",
   "execution_count": 3,
   "id": "74968f47-7ff5-41d0-9513-fd59be00cda4",
   "metadata": {},
   "outputs": [],
   "source": [
    "nodes = [[char, freq] for char, freq in frequency.items()]"
   ]
  },
  {
   "cell_type": "code",
   "execution_count": 4,
   "id": "1e103e1f-6aa3-49b3-8406-d571ad3964bc",
   "metadata": {},
   "outputs": [],
   "source": [
    "while len(nodes) > 1:\n",
    "    nodes = sorted(nodes, key=lambda x: x[1])\n",
    "    left = nodes.pop(0)\n",
    "    right = nodes.pop(0)\n",
    "    new_node = [[left, right], left[1] + right[1]]\n",
    "    nodes.append(new_node)\n",
    "huffman_tree = nodes[0]"
   ]
  },
  {
   "cell_type": "code",
   "execution_count": 5,
   "id": "e0290745-0061-4959-96d3-6a52a482afe7",
   "metadata": {},
   "outputs": [],
   "source": [
    "huffman_codes = {}\n",
    "\n",
    "def generate_codes(tree, code=\"\"):\n",
    "    if isinstance(tree[0], str): \n",
    "        huffman_codes[tree[0]] = code\n",
    "    else:  \n",
    "        generate_codes(tree[0][0], code + \"0\")\n",
    "        generate_codes(tree[0][1], code + \"1\")\n",
    "\n",
    "generate_codes(huffman_tree)"
   ]
  },
  {
   "cell_type": "code",
   "execution_count": 6,
   "id": "7f122dbc-32db-40f6-ba57-ca20879046d5",
   "metadata": {},
   "outputs": [
    {
     "name": "stdout",
     "output_type": "stream",
     "text": [
      "Character | Huffman Code\n",
      "-------------------------\n",
      "         |    000\n",
      "    i    |    001\n",
      "    n    |    010\n",
      "    h    |    011\n",
      "    P    |    1000\n",
      "    r    |    1001\n",
      "    e    |    1010\n",
      "    m    |    1011\n",
      "    S    |    1100\n",
      "    g    |    1101\n",
      "    D    |    1110\n",
      "    o    |    1111\n"
     ]
    }
   ],
   "source": [
    "print(\"Character | Huffman Code\")\n",
    "print(\"-------------------------\")\n",
    "for char, code in huffman_codes.items():\n",
    "    print(f\"    {char}    |    {code}\")"
   ]
  },
  {
   "cell_type": "code",
   "execution_count": null,
   "id": "07d7f3c3-73d7-44b5-9d8b-29b77da932e0",
   "metadata": {},
   "outputs": [],
   "source": []
  }
 ],
 "metadata": {
  "kernelspec": {
   "display_name": "Python 3 (ipykernel)",
   "language": "python",
   "name": "python3"
  },
  "language_info": {
   "codemirror_mode": {
    "name": "ipython",
    "version": 3
   },
   "file_extension": ".py",
   "mimetype": "text/x-python",
   "name": "python",
   "nbconvert_exporter": "python",
   "pygments_lexer": "ipython3",
   "version": "3.12.9"
  }
 },
 "nbformat": 4,
 "nbformat_minor": 5
}
